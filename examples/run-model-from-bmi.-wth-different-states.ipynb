{
 "cells": [
  {
   "cell_type": "markdown",
   "metadata": {},
   "source": [
    "# Run the `Heat` model through its BMI"
   ]
  },
  {
   "cell_type": "markdown",
   "metadata": {},
   "source": [
    "`Heat` models the diffusion of temperature on a uniform rectangular plate with Dirichlet boundary conditions. View the source code for the [model](https://github.com/csdms/bmi-example-python/blob/master/heat/heat.py) and its [BMI](https://github.com/csdms/bmi-example-python/blob/master/heat/bmi_heat.py) on GitHub."
   ]
  },
  {
   "cell_type": "markdown",
   "metadata": {},
   "source": [
    "Start by importing `os`, `numpy` and the `Heat` BMI:"
   ]
  },
  {
   "cell_type": "code",
   "execution_count": 1,
   "metadata": {},
   "outputs": [],
   "source": [
    "import os\n",
    "import numpy as np\n",
    "\n",
    "from heat import BmiHeat"
   ]
  },
  {
   "cell_type": "markdown",
   "metadata": {},
   "source": [
    "Create an instance of the model's BMI."
   ]
  },
  {
   "cell_type": "code",
   "execution_count": 2,
   "metadata": {},
   "outputs": [],
   "source": [
    "x = BmiHeat()"
   ]
  },
  {
   "cell_type": "markdown",
   "metadata": {},
   "source": [
    "What's the name of this model?"
   ]
  },
  {
   "cell_type": "code",
   "execution_count": 3,
   "metadata": {},
   "outputs": [
    {
     "name": "stdout",
     "output_type": "stream",
     "text": [
      "The 2D Heat Equation\n"
     ]
    }
   ],
   "source": [
    "print(x.get_component_name())"
   ]
  },
  {
   "cell_type": "markdown",
   "metadata": {},
   "source": [
    "Start the `Heat` model through its BMI using a configuration file:"
   ]
  },
  {
   "cell_type": "code",
   "execution_count": 4,
   "metadata": {},
   "outputs": [
    {
     "name": "stdout",
     "output_type": "stream",
     "text": [
      "# Heat model configuration\n",
      "shape:\n",
      "  - 6\n",
      "  - 8\n",
      "spacing:\n",
      "  - 1.0\n",
      "  - 1.0\n",
      "origin:\n",
      "  - 0.0\n",
      "  - 0.0\n",
      "alpha: 1.0\n"
     ]
    }
   ],
   "source": [
    "cat heat.yaml"
   ]
  },
  {
   "cell_type": "code",
   "execution_count": 5,
   "metadata": {},
   "outputs": [],
   "source": [
    "x.initialize(\"heat.yaml\")"
   ]
  },
  {
   "cell_type": "markdown",
   "metadata": {},
   "source": [
    "Check the time information for the model."
   ]
  },
  {
   "cell_type": "code",
   "execution_count": 28,
   "metadata": {},
   "outputs": [
    {
     "name": "stdout",
     "output_type": "stream",
     "text": [
      "{\n",
      "    \"time\": 0.0,\n",
      "    \"plate_surface__temperature\": [\n",
      "        0.9684836247379001,\n",
      "        0.6550080046844243,\n",
      "        0.5254915600187879,\n",
      "        0.619005434495118,\n",
      "        0.663366876795297,\n",
      "        0.008368857864502366,\n",
      "        0.4851313825711857,\n",
      "        0.8498053312201644,\n",
      "        0.524668279750368,\n",
      "        0.1747861537340425,\n",
      "        0.06985965171692354,\n",
      "        0.3376524402569979,\n",
      "        0.7057232571227028,\n",
      "        0.8376753702730808,\n",
      "        0.756051697274303,\n",
      "        0.6964356289755126,\n",
      "        0.3346446608257382,\n",
      "        0.18133878239070256,\n",
      "        0.041532354468550525,\n",
      "        0.7412339094649948,\n",
      "        0.35970724575029756,\n",
      "        0.19669693152150403,\n",
      "        0.1910863473417963,\n",
      "        0.1740324927025939,\n",
      "        0.15983348466606206,\n",
      "        0.16192261102228234,\n",
      "        0.6609493865002737,\n",
      "        0.268052042681284,\n",
      "        0.3538134291823436,\n",
      "        0.9953041956155207,\n",
      "        0.8072033397281079,\n",
      "        0.7442212040297197,\n",
      "        0.4967462109320222,\n",
      "        0.40510407107593627,\n",
      "        0.310218753116829,\n",
      "        0.7598591849829671,\n",
      "        0.7619716855689805,\n",
      "        0.7099200788917801,\n",
      "        0.5353736828614781,\n",
      "        0.7000529188078973,\n",
      "        0.21201273833116563,\n",
      "        0.4263668206378457,\n",
      "        0.3152553684510294,\n",
      "        0.9059135080756453,\n",
      "        0.39613599806447175,\n",
      "        0.7721687861939127,\n",
      "        0.8618269496624634,\n",
      "        0.3039643569841276\n",
      "    ]\n",
      "}\n"
     ]
    }
   ],
   "source": [
    "stateOut = x.get_state()\n",
    "print(stateOut)"
   ]
  },
  {
   "cell_type": "code",
   "execution_count": 16,
   "metadata": {},
   "outputs": [],
   "source": [
    "import json\n",
    "stateOutDict = json.loads(stateOut)"
   ]
  },
  {
   "cell_type": "code",
   "execution_count": 25,
   "metadata": {},
   "outputs": [
    {
     "name": "stdout",
     "output_type": "stream",
     "text": [
      "{'time': 0.0, 'plate_surface__temperature': [0.9684836247379001, 0.6550080046844243, 0.5254915600187879, 0.619005434495118, 0.663366876795297, 0.008368857864502366, 0.4851313825711857, 0.8498053312201644, 0.524668279750368, 0.1747861537340425, 0.06985965171692354, 0.3376524402569979, 0.7057232571227028, 0.8376753702730808, 0.756051697274303, 0, 0.3346446608257382, 0.18133878239070256, 0.041532354468550525, 0.7412339094649948, 0.35970724575029756, 0.19669693152150403, 0.1910863473417963, 0.1740324927025939, 0.15983348466606206, 0.16192261102228234, 0.6609493865002737, 0.268052042681284, 0.3538134291823436, 0.9953041956155207, 0.8072033397281079, 0.7442212040297197, 0.4967462109320222, 0.40510407107593627, 0.310218753116829, 0.7598591849829671, 0.7619716855689805, 0.7099200788917801, 0.5353736828614781, 0.7000529188078973, 0.21201273833116563, 0.4263668206378457, 0.3152553684510294, 0.9059135080756453, 0.39613599806447175, 0.7721687861939127, 0.8618269496624634, 0.3039643569841276]}\n"
     ]
    }
   ],
   "source": [
    "stateOutDict['plate_surface__temperature'][15]=0\n",
    "print(stateOutDict)"
   ]
  },
  {
   "cell_type": "code",
   "execution_count": 29,
   "metadata": {},
   "outputs": [],
   "source": [
    "x.set_state(json.dumps(stateOutDict))"
   ]
  },
  {
   "cell_type": "code",
   "execution_count": 30,
   "metadata": {},
   "outputs": [
    {
     "name": "stdout",
     "output_type": "stream",
     "text": [
      "Start time: 0.0\n",
      "End time: 1.7976931348623157e+308\n",
      "Current time: 0.0\n",
      "Time step: 0.25\n",
      "Time units: s\n"
     ]
    }
   ],
   "source": [
    "print(\"Start time:\", x.get_start_time())\n",
    "print(\"End time:\", x.get_end_time())\n",
    "print(\"Current time:\", x.get_current_time())\n",
    "print(\"Time step:\", x.get_time_step())\n",
    "print(\"Time units:\", x.get_time_units())"
   ]
  },
  {
   "cell_type": "markdown",
   "metadata": {},
   "source": [
    "Show the input and output variables for the component (aside on [Standard Names](https://csdms.colorado.edu/wiki/CSDMS_Standard_Names)):"
   ]
  },
  {
   "cell_type": "code",
   "execution_count": 31,
   "metadata": {},
   "outputs": [
    {
     "name": "stdout",
     "output_type": "stream",
     "text": [
      "('plate_surface__temperature',)\n",
      "('plate_surface__temperature',)\n"
     ]
    }
   ],
   "source": [
    "print(x.get_input_var_names())\n",
    "print(x.get_output_var_names())"
   ]
  },
  {
   "cell_type": "markdown",
   "metadata": {},
   "source": [
    "Next, get the identifier for the grid on which the temperature variable is defined:"
   ]
  },
  {
   "cell_type": "code",
   "execution_count": 32,
   "metadata": {},
   "outputs": [
    {
     "name": "stdout",
     "output_type": "stream",
     "text": [
      "Grid id: 0\n"
     ]
    }
   ],
   "source": [
    "grid_id = x.get_var_grid(\"plate_surface__temperature\")\n",
    "print(\"Grid id:\", grid_id)"
   ]
  },
  {
   "cell_type": "markdown",
   "metadata": {},
   "source": [
    "Then get the grid attributes:"
   ]
  },
  {
   "cell_type": "code",
   "execution_count": 33,
   "metadata": {},
   "outputs": [
    {
     "name": "stdout",
     "output_type": "stream",
     "text": [
      "Grid type: uniform_rectilinear\n",
      "Grid rank: 2\n",
      "Grid shape: [6 8]\n",
      "Grid spacing: [1. 1.]\n"
     ]
    }
   ],
   "source": [
    "print(\"Grid type:\", x.get_grid_type(grid_id))\n",
    "\n",
    "rank = x.get_grid_rank(grid_id)\n",
    "print(\"Grid rank:\", rank)\n",
    "\n",
    "shape = np.ndarray(rank, dtype=int)\n",
    "x.get_grid_shape(grid_id, shape)\n",
    "print(\"Grid shape:\", shape)\n",
    "\n",
    "spacing = np.ndarray(rank, dtype=float)\n",
    "x.get_grid_spacing(grid_id, spacing)\n",
    "print(\"Grid spacing:\", spacing)"
   ]
  },
  {
   "cell_type": "markdown",
   "metadata": {},
   "source": [
    "These commands are made somewhat un-Pythonic by the generic design of the BMI."
   ]
  },
  {
   "cell_type": "markdown",
   "metadata": {},
   "source": [
    "Through the model's BMI, zero out the initial temperature field, except for an impulse near the middle.\n",
    "Note that *set_value* expects a one-dimensional array for input."
   ]
  },
  {
   "cell_type": "code",
   "execution_count": 34,
   "metadata": {},
   "outputs": [],
   "source": [
    "temperature = np.zeros(shape)\n",
    "temperature[3, 4] = 100.0\n",
    "x.set_value(\"plate_surface__temperature\", temperature)"
   ]
  },
  {
   "cell_type": "markdown",
   "metadata": {},
   "source": [
    "Check that the temperature field has been updated. Note that *get_value* expects a one-dimensional array to receive output."
   ]
  },
  {
   "cell_type": "code",
   "execution_count": 35,
   "metadata": {},
   "outputs": [
    {
     "name": "stdout",
     "output_type": "stream",
     "text": [
      "[[  0.   0.   0.   0.   0.   0.   0.   0.]\n",
      " [  0.   0.   0.   0.   0.   0.   0.   0.]\n",
      " [  0.   0.   0.   0.   0.   0.   0.   0.]\n",
      " [  0.   0.   0.   0. 100.   0.   0.   0.]\n",
      " [  0.   0.   0.   0.   0.   0.   0.   0.]\n",
      " [  0.   0.   0.   0.   0.   0.   0.   0.]]\n"
     ]
    }
   ],
   "source": [
    "temperature_flat = np.empty_like(temperature).flatten()\n",
    "x.get_value(\"plate_surface__temperature\", temperature_flat)\n",
    "print(temperature_flat.reshape(shape))"
   ]
  },
  {
   "cell_type": "markdown",
   "metadata": {},
   "source": [
    "Now advance the model by a single time step:"
   ]
  },
  {
   "cell_type": "code",
   "execution_count": null,
   "metadata": {},
   "outputs": [],
   "source": [
    "x.update()"
   ]
  },
  {
   "cell_type": "markdown",
   "metadata": {},
   "source": [
    "View the new state of the temperature field:"
   ]
  },
  {
   "cell_type": "code",
   "execution_count": null,
   "metadata": {},
   "outputs": [],
   "source": [
    "x.get_value(\"plate_surface__temperature\", temperature_flat)\n",
    "print(temperature_flat.reshape(shape))"
   ]
  },
  {
   "cell_type": "markdown",
   "metadata": {},
   "source": [
    "There's diffusion!"
   ]
  },
  {
   "cell_type": "markdown",
   "metadata": {},
   "source": [
    "Advance the model to some distant time:"
   ]
  },
  {
   "cell_type": "code",
   "execution_count": null,
   "metadata": {},
   "outputs": [],
   "source": [
    "distant_time = 2.0\n",
    "while x.get_current_time() < distant_time:\n",
    "    x.update()"
   ]
  },
  {
   "cell_type": "markdown",
   "metadata": {},
   "source": [
    "View the final state of the temperature field:"
   ]
  },
  {
   "cell_type": "code",
   "execution_count": null,
   "metadata": {},
   "outputs": [],
   "source": [
    "np.set_printoptions(formatter={\"float\": \"{: 5.1f}\".format})\n",
    "x.get_value(\"plate_surface__temperature\", temperature_flat)\n",
    "print(temperature_flat.reshape(shape))"
   ]
  },
  {
   "cell_type": "markdown",
   "metadata": {},
   "source": [
    "Note that temperature isn't conserved on the plate:"
   ]
  },
  {
   "cell_type": "code",
   "execution_count": null,
   "metadata": {},
   "outputs": [],
   "source": [
    "print(temperature_flat.sum())"
   ]
  },
  {
   "cell_type": "markdown",
   "metadata": {},
   "source": [
    "End the model:"
   ]
  },
  {
   "cell_type": "code",
   "execution_count": null,
   "metadata": {},
   "outputs": [],
   "source": [
    "x.finalize()"
   ]
  },
  {
   "cell_type": "code",
   "execution_count": null,
   "metadata": {},
   "outputs": [],
   "source": []
  }
 ],
 "metadata": {
  "kernelspec": {
   "display_name": "Python 3",
   "language": "python",
   "name": "python3"
  },
  "language_info": {
   "codemirror_mode": {
    "name": "ipython",
    "version": 3
   },
   "file_extension": ".py",
   "mimetype": "text/x-python",
   "name": "python",
   "nbconvert_exporter": "python",
   "pygments_lexer": "ipython3",
   "version": "3.7.1"
  }
 },
 "nbformat": 4,
 "nbformat_minor": 2
}
