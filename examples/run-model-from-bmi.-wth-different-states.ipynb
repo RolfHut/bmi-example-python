{
 "cells": [
  {
   "cell_type": "markdown",
   "metadata": {},
   "source": [
    "# Run the `Heat` model through its BMI"
   ]
  },
  {
   "cell_type": "markdown",
   "metadata": {},
   "source": [
    "`Heat` models the diffusion of temperature on a uniform rectangular plate with Dirichlet boundary conditions. View the source code for the [model](https://github.com/csdms/bmi-example-python/blob/master/heat/heat.py) and its [BMI](https://github.com/csdms/bmi-example-python/blob/master/heat/bmi_heat.py) on GitHub."
   ]
  },
  {
   "cell_type": "markdown",
   "metadata": {},
   "source": [
    "Start by importing `os`, `numpy` and the `Heat` BMI:"
   ]
  },
  {
   "cell_type": "code",
   "execution_count": 26,
   "metadata": {},
   "outputs": [],
   "source": [
    "import os\n",
    "import numpy as np\n",
    "import pandas as pd\n",
    "\n",
    "from heat import BmiHeat"
   ]
  },
  {
   "cell_type": "markdown",
   "metadata": {},
   "source": [
    "Create an instance of the model's BMI."
   ]
  },
  {
   "cell_type": "code",
   "execution_count": 2,
   "metadata": {},
   "outputs": [],
   "source": [
    "x = BmiHeat()"
   ]
  },
  {
   "cell_type": "markdown",
   "metadata": {},
   "source": [
    "What's the name of this model?"
   ]
  },
  {
   "cell_type": "code",
   "execution_count": 3,
   "metadata": {},
   "outputs": [
    {
     "name": "stdout",
     "output_type": "stream",
     "text": [
      "The 2D Heat Equation\n"
     ]
    }
   ],
   "source": [
    "print(x.get_component_name())"
   ]
  },
  {
   "cell_type": "markdown",
   "metadata": {},
   "source": [
    "Start the `Heat` model through its BMI using a configuration file:"
   ]
  },
  {
   "cell_type": "code",
   "execution_count": 4,
   "metadata": {},
   "outputs": [
    {
     "name": "stdout",
     "output_type": "stream",
     "text": [
      "# Heat model configuration\n",
      "shape:\n",
      "  - 6\n",
      "  - 8\n",
      "spacing:\n",
      "  - 1.0\n",
      "  - 1.0\n",
      "origin:\n",
      "  - 0.0\n",
      "  - 0.0\n",
      "alpha: 1.0\n"
     ]
    }
   ],
   "source": [
    "cat heat.yaml"
   ]
  },
  {
   "cell_type": "code",
   "execution_count": 5,
   "metadata": {},
   "outputs": [],
   "source": [
    "x.initialize(\"heat.yaml\")"
   ]
  },
  {
   "cell_type": "markdown",
   "metadata": {},
   "source": [
    "Check the time information for the model."
   ]
  },
  {
   "cell_type": "code",
   "execution_count": 6,
   "metadata": {},
   "outputs": [
    {
     "name": "stdout",
     "output_type": "stream",
     "text": [
      "{\n",
      "    \"time\": 0.0,\n",
      "    \"plate_surface__temperature\": {\n",
      "        \"value\": [\n",
      "            0.7751559929795838,\n",
      "            0.9740429959945077,\n",
      "            0.07602360261172714,\n",
      "            0.19345617181867514,\n",
      "            0.39467485155774207,\n",
      "            0.6005565853122184,\n",
      "            0.3229424519769787,\n",
      "            0.987630806490736,\n",
      "            0.3874355285568958,\n",
      "            0.6700808824401435,\n",
      "            0.8228438420280402,\n",
      "            0.7460197054142051,\n",
      "            0.6105962442057601,\n",
      "            0.9683361960938874,\n",
      "            0.7873742592700971,\n",
      "            0.8297664301888102,\n",
      "            0.09310980618841402,\n",
      "            0.28162754601767714,\n",
      "            0.4171203350603051,\n",
      "            0.5738856325374869,\n",
      "            0.803987360854201,\n",
      "            0.34090547980542085,\n",
      "            0.4776026525000646,\n",
      "            0.987316125397035,\n",
      "            0.8842297614848268,\n",
      "            0.6417553192113641,\n",
      "            0.7861712685558294,\n",
      "            0.20659033047583297,\n",
      "            0.07228121962360368,\n",
      "            0.7885444991267336,\n",
      "            0.1582292399062314,\n",
      "            0.7442878504063878,\n",
      "            0.07447221802960291,\n",
      "            0.5780722851775619,\n",
      "            0.6943635604104812,\n",
      "            0.2821665942733348,\n",
      "            0.4685240374159698,\n",
      "            0.10018338876202237,\n",
      "            0.04591115958116665,\n",
      "            0.7646718853795121,\n",
      "            0.26417852319698265,\n",
      "            0.8745077022566503,\n",
      "            0.9655401571468339,\n",
      "            0.041403279912340385,\n",
      "            0.33964789534654916,\n",
      "            0.8611199139560012,\n",
      "            0.5468779130223901,\n",
      "            0.04750517300179058\n",
      "        ],\n",
      "        \"type\": \"float64\",\n",
      "        \"itemsize\": 8,\n",
      "        \"nbytes\": 384\n",
      "    }\n",
      "}\n"
     ]
    }
   ],
   "source": [
    "stateOut = x.get_state()\n",
    "print(stateOut)"
   ]
  },
  {
   "cell_type": "code",
   "execution_count": 7,
   "metadata": {},
   "outputs": [],
   "source": [
    "import json\n",
    "stateOutDict = json.loads(stateOut)"
   ]
  },
  {
   "cell_type": "code",
   "execution_count": 8,
   "metadata": {},
   "outputs": [
    {
     "name": "stdout",
     "output_type": "stream",
     "text": [
      "{'time': 0.0, 'plate_surface__temperature': {'value': [0.7751559929795838, 0.9740429959945077, 0.07602360261172714, 0.19345617181867514, 0.39467485155774207, 0.6005565853122184, 0.3229424519769787, 0.987630806490736, 0.3874355285568958, 0.6700808824401435, 0.8228438420280402, 0.7460197054142051, 0.6105962442057601, 0.9683361960938874, 0.7873742592700971, 0.8297664301888102, 0.09310980618841402, 0.28162754601767714, 0.4171203350603051, 0.5738856325374869, 0.803987360854201, 0.34090547980542085, 0.4776026525000646, 0.987316125397035, 0.8842297614848268, 0.6417553192113641, 0.7861712685558294, 0.20659033047583297, 0.07228121962360368, 0.7885444991267336, 0.1582292399062314, 0.7442878504063878, 0.07447221802960291, 0.5780722851775619, 0.6943635604104812, 0.2821665942733348, 0.4685240374159698, 0.10018338876202237, 0.04591115958116665, 0.7646718853795121, 0.26417852319698265, 0.8745077022566503, 0.9655401571468339, 0.041403279912340385, 0.33964789534654916, 0.8611199139560012, 0.5468779130223901, 0.04750517300179058], 'type': 'float64', 'itemsize': 8, 'nbytes': 384, 15: 0}}\n"
     ]
    }
   ],
   "source": [
    "stateOutDict['plate_surface__temperature'][15]=0\n",
    "print(stateOutDict)"
   ]
  },
  {
   "cell_type": "code",
   "execution_count": 9,
   "metadata": {},
   "outputs": [],
   "source": [
    "x.set_state(json.dumps(stateOutDict))"
   ]
  },
  {
   "cell_type": "code",
   "execution_count": 10,
   "metadata": {},
   "outputs": [
    {
     "name": "stdout",
     "output_type": "stream",
     "text": [
      "Start time: 0.0\n",
      "End time: 1.7976931348623157e+308\n",
      "Current time: 0.0\n",
      "Time step: 0.25\n",
      "Time units: s\n"
     ]
    }
   ],
   "source": [
    "print(\"Start time:\", x.get_start_time())\n",
    "print(\"End time:\", x.get_end_time())\n",
    "print(\"Current time:\", x.get_current_time())\n",
    "print(\"Time step:\", x.get_time_step())\n",
    "print(\"Time units:\", x.get_time_units())"
   ]
  },
  {
   "cell_type": "markdown",
   "metadata": {},
   "source": [
    "Show the input and output variables for the component (aside on [Standard Names](https://csdms.colorado.edu/wiki/CSDMS_Standard_Names)):"
   ]
  },
  {
   "cell_type": "code",
   "execution_count": 11,
   "metadata": {},
   "outputs": [
    {
     "name": "stdout",
     "output_type": "stream",
     "text": [
      "('plate_surface__temperature',)\n",
      "('plate_surface__temperature',)\n"
     ]
    }
   ],
   "source": [
    "print(x.get_input_var_names())\n",
    "print(x.get_output_var_names())"
   ]
  },
  {
   "cell_type": "markdown",
   "metadata": {},
   "source": [
    "Next, get the identifier for the grid on which the temperature variable is defined:"
   ]
  },
  {
   "cell_type": "code",
   "execution_count": 12,
   "metadata": {},
   "outputs": [
    {
     "name": "stdout",
     "output_type": "stream",
     "text": [
      "Grid id: 0\n"
     ]
    }
   ],
   "source": [
    "grid_id = x.get_var_grid(\"plate_surface__temperature\")\n",
    "print(\"Grid id:\", grid_id)"
   ]
  },
  {
   "cell_type": "markdown",
   "metadata": {},
   "source": [
    "Then get the grid attributes:"
   ]
  },
  {
   "cell_type": "code",
   "execution_count": 13,
   "metadata": {},
   "outputs": [
    {
     "name": "stdout",
     "output_type": "stream",
     "text": [
      "Grid type: uniform_rectilinear\n",
      "Grid rank: 2\n",
      "Grid shape: [6 8]\n",
      "Grid spacing: [1. 1.]\n"
     ]
    }
   ],
   "source": [
    "print(\"Grid type:\", x.get_grid_type(grid_id))\n",
    "\n",
    "rank = x.get_grid_rank(grid_id)\n",
    "print(\"Grid rank:\", rank)\n",
    "\n",
    "shape = np.ndarray(rank, dtype=int)\n",
    "x.get_grid_shape(grid_id, shape)\n",
    "print(\"Grid shape:\", shape)\n",
    "\n",
    "spacing = np.ndarray(rank, dtype=float)\n",
    "x.get_grid_spacing(grid_id, spacing)\n",
    "print(\"Grid spacing:\", spacing)"
   ]
  },
  {
   "cell_type": "markdown",
   "metadata": {},
   "source": [
    "These commands are made somewhat un-Pythonic by the generic design of the BMI."
   ]
  },
  {
   "cell_type": "markdown",
   "metadata": {},
   "source": [
    "Through the model's BMI, zero out the initial temperature field, except for an impulse near the middle.\n",
    "Note that *set_value* expects a one-dimensional array for input."
   ]
  },
  {
   "cell_type": "code",
   "execution_count": 14,
   "metadata": {},
   "outputs": [],
   "source": [
    "temperature = np.zeros(shape)\n",
    "temperature[3, 4] = 100.0\n",
    "x.set_value(\"plate_surface__temperature\", temperature)"
   ]
  },
  {
   "cell_type": "markdown",
   "metadata": {},
   "source": [
    "Check that the temperature field has been updated. Note that *get_value* expects a one-dimensional array to receive output."
   ]
  },
  {
   "cell_type": "code",
   "execution_count": 15,
   "metadata": {},
   "outputs": [
    {
     "name": "stdout",
     "output_type": "stream",
     "text": [
      "[[  0.   0.   0.   0.   0.   0.   0.   0.]\n",
      " [  0.   0.   0.   0.   0.   0.   0.   0.]\n",
      " [  0.   0.   0.   0.   0.   0.   0.   0.]\n",
      " [  0.   0.   0.   0. 100.   0.   0.   0.]\n",
      " [  0.   0.   0.   0.   0.   0.   0.   0.]\n",
      " [  0.   0.   0.   0.   0.   0.   0.   0.]]\n"
     ]
    }
   ],
   "source": [
    "temperature_flat = np.empty_like(temperature).flatten()\n",
    "x.get_value(\"plate_surface__temperature\", temperature_flat)\n",
    "print(temperature_flat.reshape(shape))"
   ]
  },
  {
   "cell_type": "markdown",
   "metadata": {},
   "source": [
    "Now advance the model by a single time step:"
   ]
  },
  {
   "cell_type": "code",
   "execution_count": 16,
   "metadata": {},
   "outputs": [],
   "source": [
    "x.update()"
   ]
  },
  {
   "cell_type": "markdown",
   "metadata": {},
   "source": [
    "View the new state of the temperature field:"
   ]
  },
  {
   "cell_type": "code",
   "execution_count": 17,
   "metadata": {},
   "outputs": [
    {
     "name": "stdout",
     "output_type": "stream",
     "text": [
      "[[ 0.   0.   0.   0.   0.   0.   0.   0. ]\n",
      " [ 0.   0.   0.   0.   0.   0.   0.   0. ]\n",
      " [ 0.   0.   0.   0.  12.5  0.   0.   0. ]\n",
      " [ 0.   0.   0.  12.5 50.  12.5  0.   0. ]\n",
      " [ 0.   0.   0.   0.  12.5  0.   0.   0. ]\n",
      " [ 0.   0.   0.   0.   0.   0.   0.   0. ]]\n"
     ]
    }
   ],
   "source": [
    "x.get_value(\"plate_surface__temperature\", temperature_flat)\n",
    "print(temperature_flat.reshape(shape))"
   ]
  },
  {
   "cell_type": "markdown",
   "metadata": {},
   "source": [
    "There's diffusion!"
   ]
  },
  {
   "cell_type": "markdown",
   "metadata": {},
   "source": [
    "## Generate an ensemble of models using get_state and set_state\n",
    "We will demonstrate (some of) the use of get_state and set_state by generating an ensemble of models starting from the state of the one we just initialized, adding noise to each ensemble member and than running all of them forward in time. While running forward, we save the temperature at a single point of interest and plot a graph of all ensemble members to show the ensemble spread over time.\n",
    "\n",
    "First, we save the current state of the model."
   ]
  },
  {
   "cell_type": "code",
   "execution_count": 18,
   "metadata": {},
   "outputs": [],
   "source": [
    "state_out = x.get_state()"
   ]
  },
  {
   "cell_type": "markdown",
   "metadata": {},
   "source": [
    "State is always returned as a string. In this case the string is formated as JSON, so Let's see what keys are in this state:"
   ]
  },
  {
   "cell_type": "code",
   "execution_count": 19,
   "metadata": {},
   "outputs": [
    {
     "name": "stdout",
     "output_type": "stream",
     "text": [
      "dict_keys(['time', 'plate_surface__temperature'])\n"
     ]
    }
   ],
   "source": [
    "dictState = json.loads(state_out)\n",
    "print(dictState.keys())"
   ]
  },
  {
   "cell_type": "code",
   "execution_count": 20,
   "metadata": {},
   "outputs": [
    {
     "name": "stdout",
     "output_type": "stream",
     "text": [
      "dict_keys(['value', 'type', 'itemsize', 'nbytes'])\n"
     ]
    }
   ],
   "source": [
    "print(dictState['plate_surface__temperature'].keys())"
   ]
  },
  {
   "cell_type": "markdown",
   "metadata": {},
   "source": [
    "Next, we create an ensemble of BMI model objects. Each model gets initzialized in the same way as ```x``` was above."
   ]
  },
  {
   "cell_type": "code",
   "execution_count": 21,
   "metadata": {},
   "outputs": [],
   "source": [
    "nEnsemble = 25\n",
    "ensemble = []\n",
    "\n",
    "for ensembleMember in range(nEnsemble):\n",
    "    ensemble.append(BmiHeat())\n",
    "    ensemble[ensembleMember].initialize(\"heat.yaml\")"
   ]
  },
  {
   "cell_type": "markdown",
   "metadata": {},
   "source": [
    "Now, for each ensemble member, we take the state of x, add some noise, and set the state of the member"
   ]
  },
  {
   "cell_type": "code",
   "execution_count": 25,
   "metadata": {},
   "outputs": [],
   "source": [
    "plate_surface_temp_from_x = dictState['plate_surface__temperature']['value']\n",
    "\n",
    "for ensembleMember in range(nEnsemble):\n",
    "    #for each ensemble, start with the same state as x.\n",
    "    ensembleMemberDictState = dictState\n",
    "    \n",
    "    noise = np.random.randn(len(ensembleMemberDictState['plate_surface__temperature']['value']))\n",
    "    plate_surface_temp = plate_surface_temp_from_x + noise\n",
    "    \n",
    "    #this array we want to set in the state is a numpy array, which has to be transformed \n",
    "    #to a list otherwise we can not turn it into a json string.\n",
    "    ensembleMemberDictState['plate_surface__temperature']['value'] = plate_surface_temp.tolist()\n",
    "    \n",
    "    #Turn the state with noise added back into a json string\n",
    "    ensembleStateJSON = json.dumps(ensembleMemberDictState)\n",
    "    \n",
    "    #finally set the state of the ensemble member.\n",
    "    ensemble[ensembleMember].set_state(ensembleStateJSON)\n",
    "    \n",
    "#Note that the above loop is needlessly verbose for educational purposes.\n",
    "#This does use a lot of memmory. The code below is less readable, but uses less memmory.\n",
    "#When using bigger models than this example model, this can make a big difference in \n",
    "#performance.\n",
    "\n",
    "plate_surface_temp_from_x = dictState['plate_surface__temperature']['value']\n",
    "\n",
    "for ensembleMember in range(nEnsemble):\n",
    "\n",
    "    dictState['plate_surface__temperature']['value'] = (plate_surface_temp_from_x + \n",
    "                                                        np.random.randn(len(ensembleMemberDictState['plate_surface__temperature']['value']))).tolist()\n",
    "    ensemble[ensembleMember].set_state(json.dumps(dictState))\n"
   ]
  },
  {
   "cell_type": "markdown",
   "metadata": {},
   "source": [
    "Now run the entire ensemble forward in time. Every timestep, we are saving the temperature of one location of the plate of interest, for each ensemble member.\n",
    "\n",
    "Note that for bigger models, the for loop in this step can be run in parallel for all the models. "
   ]
  },
  {
   "cell_type": "code",
   "execution_count": 50,
   "metadata": {},
   "outputs": [
    {
     "ename": "ValueError",
     "evalue": "could not broadcast input array from shape (2) into shape (0)",
     "output_type": "error",
     "traceback": [
      "\u001b[0;31m---------------------------------------------------------------------------\u001b[0m",
      "\u001b[0;31mValueError\u001b[0m                                Traceback (most recent call last)",
      "\u001b[0;32m<ipython-input-50-38aa6e03efd7>\u001b[0m in \u001b[0;36m<module>\u001b[0;34m\u001b[0m\n\u001b[1;32m      7\u001b[0m \u001b[0;32mwhile\u001b[0m \u001b[0mx\u001b[0m\u001b[0;34m.\u001b[0m\u001b[0mget_current_time\u001b[0m\u001b[0;34m(\u001b[0m\u001b[0;34m)\u001b[0m \u001b[0;34m<\u001b[0m \u001b[0mdistant_time\u001b[0m\u001b[0;34m:\u001b[0m\u001b[0;34m\u001b[0m\u001b[0;34m\u001b[0m\u001b[0m\n\u001b[1;32m      8\u001b[0m     \u001b[0mx\u001b[0m\u001b[0;34m.\u001b[0m\u001b[0mupdate\u001b[0m\u001b[0;34m(\u001b[0m\u001b[0;34m)\u001b[0m\u001b[0;34m\u001b[0m\u001b[0;34m\u001b[0m\u001b[0m\n\u001b[0;32m----> 9\u001b[0;31m     \u001b[0mx\u001b[0m\u001b[0;34m.\u001b[0m\u001b[0mget_value_at_indices\u001b[0m\u001b[0;34m(\u001b[0m\u001b[0;34m'plate_surface__temperature'\u001b[0m\u001b[0;34m,\u001b[0m\u001b[0moutputValue\u001b[0m\u001b[0;34m,\u001b[0m \u001b[0mloc_of_interest\u001b[0m\u001b[0;34m)\u001b[0m\u001b[0;34m\u001b[0m\u001b[0;34m\u001b[0m\u001b[0m\n\u001b[0m\u001b[1;32m     10\u001b[0m     \u001b[0moutput\u001b[0m\u001b[0;34m.\u001b[0m\u001b[0mloc\u001b[0m\u001b[0;34m[\u001b[0m\u001b[0mx\u001b[0m\u001b[0;34m.\u001b[0m\u001b[0mget_current_time\u001b[0m\u001b[0;34m(\u001b[0m\u001b[0;34m)\u001b[0m\u001b[0;34m,\u001b[0m\u001b[0;34m'x'\u001b[0m\u001b[0;34m]\u001b[0m \u001b[0;34m=\u001b[0m \u001b[0moutputValue\u001b[0m\u001b[0;34m\u001b[0m\u001b[0;34m\u001b[0m\u001b[0m\n\u001b[1;32m     11\u001b[0m \u001b[0;34m\u001b[0m\u001b[0m\n",
      "\u001b[0;32m~/Documents/github/bmi-example-python/examples/heat/bmi_heat.py\u001b[0m in \u001b[0;36mget_value_at_indices\u001b[0;34m(self, var_name, dest, indices)\u001b[0m\n\u001b[1;32m    236\u001b[0m             \u001b[0mValues\u001b[0m \u001b[0mat\u001b[0m \u001b[0mindices\u001b[0m\u001b[0;34m.\u001b[0m\u001b[0;34m\u001b[0m\u001b[0;34m\u001b[0m\u001b[0m\n\u001b[1;32m    237\u001b[0m         \"\"\"\n\u001b[0;32m--> 238\u001b[0;31m         \u001b[0mdest\u001b[0m\u001b[0;34m[\u001b[0m\u001b[0;34m:\u001b[0m\u001b[0;34m]\u001b[0m \u001b[0;34m=\u001b[0m \u001b[0mself\u001b[0m\u001b[0;34m.\u001b[0m\u001b[0mget_value_ptr\u001b[0m\u001b[0;34m(\u001b[0m\u001b[0mvar_name\u001b[0m\u001b[0;34m)\u001b[0m\u001b[0;34m.\u001b[0m\u001b[0mtake\u001b[0m\u001b[0;34m(\u001b[0m\u001b[0mindices\u001b[0m\u001b[0;34m)\u001b[0m\u001b[0;34m\u001b[0m\u001b[0;34m\u001b[0m\u001b[0m\n\u001b[0m\u001b[1;32m    239\u001b[0m         \u001b[0;32mreturn\u001b[0m \u001b[0mdest\u001b[0m\u001b[0;34m\u001b[0m\u001b[0;34m\u001b[0m\u001b[0m\n\u001b[1;32m    240\u001b[0m \u001b[0;34m\u001b[0m\u001b[0m\n",
      "\u001b[0;31mValueError\u001b[0m: could not broadcast input array from shape (2) into shape (0)"
     ]
    }
   ],
   "source": [
    "loc_of_interest = np.array([3,4])\n",
    "\n",
    "distant_time = 2.0\n",
    "output = pd.DataFrame(columns = ['x'])\n",
    "\n",
    "outputValue = np.empty([0])\n",
    "while x.get_current_time() < distant_time:\n",
    "    x.update()\n",
    "    x.get_value_at_indices('plate_surface__temperature',outputValue, loc_of_interest)\n",
    "    output.loc[x.get_current_time(),'x'] = outputValue\n",
    "    \n",
    "    for ensembleMember in range(nEnsemble):\n",
    "        ensemble[ensembleMember].update()\n",
    "        ensemble[ensembleMember].get_value_at_indices('plate_surface__temperature',outputValue, loc_of_interest)\n",
    "        output.loc[ensemble[ensembleMember].get_current_time(),'ensemble' + str(ensembleMember)] = outputValue\n",
    "        \n"
   ]
  },
  {
   "cell_type": "markdown",
   "metadata": {},
   "source": [
    "View the final state of the temperature field:"
   ]
  },
  {
   "cell_type": "code",
   "execution_count": 49,
   "metadata": {},
   "outputs": [
    {
     "data": {
      "text/plain": [
       "array([], dtype=float64)"
      ]
     },
     "execution_count": 49,
     "metadata": {},
     "output_type": "execute_result"
    }
   ],
   "source": [
    "ensemble[ensembleMember].get_value_at_indices('plate_surface__temperature',outputValue, loc_of_interest)"
   ]
  },
  {
   "cell_type": "code",
   "execution_count": null,
   "metadata": {},
   "outputs": [],
   "source": [
    "np.set_printoptions(formatter={\"float\": \"{: 5.1f}\".format})\n",
    "x.get_value(\"plate_surface__temperature\", temperature_flat)\n",
    "print(temperature_flat.reshape(shape))"
   ]
  },
  {
   "cell_type": "markdown",
   "metadata": {},
   "source": [
    "Note that temperature isn't conserved on the plate:"
   ]
  },
  {
   "cell_type": "code",
   "execution_count": null,
   "metadata": {},
   "outputs": [],
   "source": [
    "print(temperature_flat.sum())"
   ]
  },
  {
   "cell_type": "markdown",
   "metadata": {},
   "source": [
    "End the model:"
   ]
  },
  {
   "cell_type": "code",
   "execution_count": null,
   "metadata": {},
   "outputs": [],
   "source": [
    "x.finalize()"
   ]
  },
  {
   "cell_type": "code",
   "execution_count": null,
   "metadata": {},
   "outputs": [],
   "source": []
  }
 ],
 "metadata": {
  "kernelspec": {
   "display_name": "Python 3",
   "language": "python",
   "name": "python3"
  },
  "language_info": {
   "codemirror_mode": {
    "name": "ipython",
    "version": 3
   },
   "file_extension": ".py",
   "mimetype": "text/x-python",
   "name": "python",
   "nbconvert_exporter": "python",
   "pygments_lexer": "ipython3",
   "version": "3.7.1"
  }
 },
 "nbformat": 4,
 "nbformat_minor": 2
}
